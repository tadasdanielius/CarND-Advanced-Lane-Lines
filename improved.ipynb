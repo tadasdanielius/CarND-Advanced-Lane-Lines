{
 "cells": [
  {
   "cell_type": "code",
   "execution_count": 1,
   "metadata": {
    "collapsed": true
   },
   "outputs": [],
   "source": [
    "import app.curve as curve\n",
    "import app.calibration as c\n",
    "import app.warp as w\n",
    "import app.edges as e\n",
    "import app.lane_finder as lf\n",
    "\n",
    "import cv2\n",
    "import matplotlib.pyplot as plt\n",
    "import importlib\n",
    "import numpy as np\n",
    "\n",
    "from moviepy.editor import VideoFileClip\n",
    "import matplotlib.image as mpimg\n",
    "from IPython.display import HTML\n",
    "%matplotlib inline"
   ]
  },
  {
   "cell_type": "code",
   "execution_count": null,
   "metadata": {
    "collapsed": false
   },
   "outputs": [],
   "source": [
    "img = cv2.imread('test_images/test1.jpg')\n",
    "img = cv2.cvtColor(img, cv2.COLOR_BGR2RGB)\n",
    "\n",
    "calibrator = c.Camera_calibrator()\n",
    "calibrator.initialize()\n",
    "undist = calibrator.calibrate(img)\n",
    "warped = w.warp(undist)\n",
    "edges = e.Edges(warped)\n",
    "\n",
    "_ = edges.gradient_color_channel(180,255,2,space=cv2.COLOR_RGB2HLS)\n",
    "_ = edges.gradient_color_channel(220,255,0,space=cv2.COLOR_RGB2LUV)\n",
    "_ = edges.gradient_color_channel(150,255,2,space=cv2.COLOR_RGB2LAB)\n",
    "\n",
    "\n",
    "\n",
    "#gx = edges.gradient_x()"
   ]
  },
  {
   "cell_type": "code",
   "execution_count": null,
   "metadata": {
    "collapsed": false
   },
   "outputs": [],
   "source": [
    "importlib.reload(curve)\n",
    "l_window = curve.CurveWindows(edges.combined, 430, margin=40, maxpix=2400)\n",
    "r_window = curve.CurveWindows(edges.combined, 880, margin=40)\n",
    "\n",
    "w1 = cv2.cvtColor(edges.combined, cv2.COLOR_GRAY2RGB)\n",
    "w1 = w1*50\n",
    "\n",
    "l_window.draw_rect(w1)\n",
    "r_window.draw_rect(w1)\n",
    "\n",
    "plt.figure(figsize=(20,10))\n",
    "plt.imshow(w1)\n"
   ]
  },
  {
   "cell_type": "code",
   "execution_count": null,
   "metadata": {
    "collapsed": false
   },
   "outputs": [],
   "source": [
    "importlib.reload(curve)\n",
    "w1 = cv2.cvtColor(edges.combined, cv2.COLOR_GRAY2RGB)\n",
    "w1 = w1*40\n",
    "\n",
    "left = curve.Curve(880)\n",
    "left.curve_fit(edges.combined)\n",
    "left.draw_curve(w1, thick=5)\n",
    "\n",
    "right = curve.Curve(430)\n",
    "right.curve_fit(edges.combined)\n",
    "right.draw_curve(w1, thick=5)\n",
    "\n",
    "\n",
    "plt.figure(figsize=(20,10))\n",
    "plt.imshow(w1)"
   ]
  },
  {
   "cell_type": "code",
   "execution_count": 2,
   "metadata": {
    "collapsed": true
   },
   "outputs": [],
   "source": [
    "def generate_mask(warped):\n",
    "    edges = e.Edges(warped)\n",
    "    #_ = edges.gradient_color_channel(180,255,2,space=cv2.COLOR_RGB2HLS)\n",
    "    #_ = edges.gradient_color_channel(225,255,0,space=cv2.COLOR_RGB2LUV)\n",
    "    #_ = edges.gradient_color_channel(155,200,2,space=cv2.COLOR_RGB2LAB)\n",
    "    \n",
    "    # Good for challenge\n",
    "    #_ = edges.gradient_color_channel(200,255,2,space=cv2.COLOR_RGB2HLS)\n",
    "    ##_ = edges.gradient_color_channel(190,255,0,space=cv2.COLOR_RGB2LUV) # white\n",
    "    #_ = edges.gradient_color_channel(220,255,0,space=cv2.COLOR_RGB2LUV) # white\n",
    "    #_ = edges.gradient_color_channel(140,255,2,space=cv2.COLOR_RGB2LAB) # yellow\n",
    "    ##_ = edges.gradient_color_inrange(180, 255, combine=True, space=cv2.COLOR_RGB2GRAY)\n",
    "\n",
    "    #_ = edges.gradient_color_channel(200,255,2,space=cv2.COLOR_RGB2HLS)\n",
    "    #_ = edges.gradient_color_channel(190,255,0,space=cv2.COLOR_RGB2LUV) # white\n",
    "    _ = edges.gradient_color_channel(250,255,0,space=cv2.COLOR_RGB2LUV) # white\n",
    "    _ = edges.gradient_color_channel(150,255,2,space=cv2.COLOR_RGB2LAB) # yellow\n",
    "    _ = edges.gradient_color_inrange(250, 255, combine=True, space=cv2.COLOR_RGB2GRAY)\n",
    "    \n",
    "    \n",
    "    return edges.combined\n",
    "\n",
    "def prepare_img(img):\n",
    "    calibrator = c.Camera_calibrator()\n",
    "    calibrator.initialize()\n",
    "    undist = calibrator.calibrate(img)\n",
    "    warped = w.warp(undist)\n",
    "    return generate_mask(warped), warped\n",
    "\n",
    "def get_base_points(img):\n",
    "    histogram = np.sum(img[img.shape[0]/2:,:], axis=0)\n",
    "    midpoint = np.int(histogram.shape[0]/2)\n",
    "    leftx_base = np.argmax(histogram[:midpoint])\n",
    "    rightx_base = np.argmax(histogram[midpoint:]) + midpoint\n",
    "    return leftx_base, rightx_base, histogram\n",
    "\n",
    "def equalize_color_hist(img):\n",
    "    ycrcb = cv2.cvtColor(img, cv2.COLOR_RGB2YCrCb)\n",
    "    ycrcb[:,:,0] = cv2.equalizeHist(ycrcb[:,:,0])\n",
    "    result = cv2.cvtColor(ycrcb, cv2.COLOR_YCrCb2RGB)\n",
    "    return result"
   ]
  },
  {
   "cell_type": "code",
   "execution_count": 3,
   "metadata": {
    "collapsed": true
   },
   "outputs": [],
   "source": [
    "frame = 0\n",
    "l_curve = None\n",
    "r_curve = None\n",
    "recheck_center = True\n",
    "\n",
    "def handler():\n",
    "    global frame\n",
    "    global l_curve\n",
    "    global r_curve\n",
    "    global recheck_center\n",
    "    \n",
    "    frame = 0\n",
    "    l_curve = None\n",
    "    r_curve = None\n",
    "    recheck_center = True\n",
    "\n",
    "    def handle_frame(img):\n",
    "        img = equalize_color_hist(img)\n",
    "        img_y, img_x, _ = img.shape\n",
    "        midpoint = int(img_x/2)\n",
    "        x_offset=y_offset=10\n",
    "        global frame\n",
    "        global l_curve\n",
    "        global r_curve\n",
    "        global recheck_center\n",
    "        \n",
    "        frame += 1\n",
    "        mask, warped = prepare_img(img)\n",
    "        leftx_base = rightx_base = 0\n",
    "        if recheck_center is True:\n",
    "            leftx_base, rightx_base, _ = get_base_points(mask)\n",
    "            if l_curve is not None:\n",
    "                l_curve.center= leftx_base\n",
    "            if r_curve is not None:\n",
    "                r_curve.center = rightx_base\n",
    "            recheck_center = False\n",
    "    \n",
    "        if l_curve is None or r_curve is None:\n",
    "            l_curve = curve.Curve(leftx_base, (0, midpoint), margin=80)\n",
    "            r_curve = curve.Curve(rightx_base, (midpoint, img_x), margin=80)\n",
    "        \n",
    "        l_valid = l_curve.curve_fit(mask)\n",
    "        r_valid = r_curve.curve_fit(mask)\n",
    "    \n",
    "        if l_valid is False or r_valid is False:\n",
    "            recheck_center = True\n",
    "    \n",
    "        marked = np.zeros_like(warped)\n",
    "        #l_curve.draw_curve(marked, thick=10)\n",
    "        #r_curve.draw_curve(marked, thick=10)\n",
    "        \n",
    "        marked = lf.plot_lanes(img, l_curve.fit, r_curve.fit, warped.shape, fill=True)\n",
    "    \n",
    "        unwarped = w.unwarp(marked)\n",
    "        final = cv2.addWeighted(img,0.7,unwarped,0.99,0)\n",
    "        \n",
    "        s_img = mask*255\n",
    "        s_img = cv2.cvtColor(s_img, cv2.COLOR_GRAY2RGB)\n",
    "        l_curve.curve_windows.draw_rect(s_img)\n",
    "        r_curve.curve_windows.draw_rect(s_img)\n",
    "        l_curve.draw_curve(s_img, thick=4)\n",
    "        r_curve.draw_curve(s_img, thick=4)\n",
    "\n",
    "        s_img_x, s_img_y = int((s_img.shape[1]/1.5)), int((s_img.shape[0]/1.5))\n",
    "        s_img = cv2.resize(s_img, (s_img_y, s_img_y))\n",
    "        final[y_offset:y_offset+s_img.shape[0], x_offset:x_offset+s_img.shape[1]] = s_img\n",
    "      \n",
    "        left_mean = l_curve.fit_avg(warped.shape[0])\n",
    "        right_mean = r_curve.fit_avg(warped.shape[0])\n",
    "        position = (right_mean+left_mean)/2\n",
    "        dist_from_center = warped.shape[1]/2-position\n",
    "        pos = 'left'\n",
    "        if dist_from_center < 0:\n",
    "            pos = 'right'\n",
    "        dist= 3.7/700 * abs(dist_from_center)\n",
    "        #print('left {} right {} position {} -center {} dist {}'.format(left_mean, right_mean, position, dist_from_center, dist))\n",
    "        txt_dist = 'Vehicle is {0:.2g}m {1} from center'.format(dist, pos)\n",
    "        cv2.putText(final,txt_dist, (10, 700), cv2.FONT_HERSHEY_DUPLEX, 1.1, (255,255,255), 2)\n",
    "        #if frame % 10 == 0:\n",
    "        #    recheck_center = True\n",
    "        \n",
    "        return final\n",
    "    return handle_frame\n"
   ]
  },
  {
   "cell_type": "code",
   "execution_count": null,
   "metadata": {
    "collapsed": false
   },
   "outputs": [],
   "source": [
    "importlib.reload(curve)\n",
    "img = cv2.imread('extra/test4.jpg')\n",
    "img = cv2.cvtColor(img, cv2.COLOR_BGR2RGB)\n",
    "\n",
    "processor = handler()\n",
    "fr = processor(img)\n",
    "plt.figure(figsize=(20,10))\n",
    "plt.imshow(fr)"
   ]
  },
  {
   "cell_type": "code",
   "execution_count": null,
   "metadata": {
    "collapsed": false
   },
   "outputs": [],
   "source": [
    "processor = handler()\n",
    "white_output = 'challenge_video_out.mp4'\n",
    "clip1 = VideoFileClip(\"challenge_video.mp4\")\n",
    "white_clip = clip1.fl_image(processor)\n",
    "%time white_clip.write_videofile(white_output, audio=False)"
   ]
  },
  {
   "cell_type": "code",
   "execution_count": null,
   "metadata": {
    "collapsed": false
   },
   "outputs": [],
   "source": [
    "HTML(\"\"\"\n",
    "<video width=\"960\" height=\"540\" controls>\n",
    "  <source src=\"{0}\">\n",
    "</video>\n",
    "\"\"\".format(white_output))"
   ]
  },
  {
   "cell_type": "code",
   "execution_count": null,
   "metadata": {
    "collapsed": false
   },
   "outputs": [],
   "source": [
    "importlib.reload(curve)"
   ]
  },
  {
   "cell_type": "code",
   "execution_count": null,
   "metadata": {
    "collapsed": false
   },
   "outputs": [],
   "source": [
    "processor = handler()\n",
    "white_output = 'project_video_out.mp4'\n",
    "clip1 = VideoFileClip(\"project_video.mp4\")\n",
    "white_clip = clip1.fl_image(processor)\n",
    "%time white_clip.write_videofile(white_output, audio=False)"
   ]
  },
  {
   "cell_type": "code",
   "execution_count": 4,
   "metadata": {
    "collapsed": false
   },
   "outputs": [
    {
     "name": "stdout",
     "output_type": "stream",
     "text": [
      "[MoviePy] >>>> Building video harder_challenge_video_out.mp4\n",
      "[MoviePy] Writing video harder_challenge_video_out.mp4\n"
     ]
    },
    {
     "name": "stderr",
     "output_type": "stream",
     "text": [
      "100%|█████████▉| 1199/1200 [13:11<00:00,  1.53it/s]    | 1/1200 [00:00<13:06,  1.53it/s]\n"
     ]
    },
    {
     "name": "stdout",
     "output_type": "stream",
     "text": [
      "[MoviePy] Done.\n",
      "[MoviePy] >>>> Video ready: harder_challenge_video_out.mp4 \n",
      "\n",
      "CPU times: user 19min 16s, sys: 9.92 s, total: 19min 26s\n",
      "Wall time: 13min 12s\n"
     ]
    }
   ],
   "source": [
    "processor = handler()\n",
    "white_output = 'harder_challenge_video_out.mp4'\n",
    "clip1 = VideoFileClip(\"harder_challenge_video.mp4\")\n",
    "white_clip = clip1.fl_image(processor)\n",
    "%time white_clip.write_videofile(white_output, audio=False)"
   ]
  },
  {
   "cell_type": "code",
   "execution_count": null,
   "metadata": {
    "collapsed": false
   },
   "outputs": [],
   "source": [
    "importlib.reload(curve)\n",
    "processor = handler()\n",
    "white_output = 'challenge_video_out1.mp4'\n",
    "clip1 = VideoFileClip(\"challenge_video.mp4\")\n",
    "white_clip = clip1.fl_image(processor)\n",
    "%time white_clip.write_videofile(white_output, audio=False)\n",
    "processor = handler()\n",
    "white_output = 'project_video_out1.mp4'\n",
    "clip1 = VideoFileClip(\"project_video.mp4\")\n",
    "white_clip = clip1.fl_image(processor)\n",
    "%time white_clip.write_videofile(white_output, audio=False)\n",
    "processor = handler()\n",
    "white_output = 'harder_challenge_video_out1.mp4'\n",
    "clip1 = VideoFileClip(\"harder_challenge_video.mp4\")\n",
    "white_clip = clip1.fl_image(processor)\n",
    "%time white_clip.write_videofile(white_output, audio=False)"
   ]
  },
  {
   "cell_type": "code",
   "execution_count": null,
   "metadata": {
    "collapsed": false
   },
   "outputs": [],
   "source": [
    "'{0:.3g}'.format(3.132423)"
   ]
  },
  {
   "cell_type": "code",
   "execution_count": null,
   "metadata": {
    "collapsed": true
   },
   "outputs": [],
   "source": [
    "math.roun"
   ]
  }
 ],
 "metadata": {
  "kernelspec": {
   "display_name": "Python [conda env:sdc]",
   "language": "python",
   "name": "conda-env-sdc-py"
  },
  "language_info": {
   "codemirror_mode": {
    "name": "ipython",
    "version": 3
   },
   "file_extension": ".py",
   "mimetype": "text/x-python",
   "name": "python",
   "nbconvert_exporter": "python",
   "pygments_lexer": "ipython3",
   "version": "3.5.2"
  }
 },
 "nbformat": 4,
 "nbformat_minor": 2
}
